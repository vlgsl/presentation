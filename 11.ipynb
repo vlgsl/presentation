{
  "nbformat": 4,
  "nbformat_minor": 0,
  "metadata": {
    "colab": {
      "name": "11.ipynb",
      "provenance": []
    },
    "kernelspec": {
      "display_name": "Python 3",
      "name": "python3"
    }
  },
  "cells": [
    {
      "cell_type": "code",
      "metadata": {
        "colab": {
          "base_uri": "https://localhost:8080/",
          "height": 885
        },
        "id": "tdjJp2An9R87",
        "outputId": "cfd93b33-fe47-4430-ad8d-0f60444f9b46"
      },
      "source": [
        "!pip install h2o\n",
        "import pandas as pd\n",
        "import matplotlib.pyplot as plt\n",
        "\n",
        "import h2o\n",
        "h2o.init()"
      ],
      "execution_count": null,
      "outputs": [
        {
          "output_type": "stream",
          "text": [
            "Collecting h2o\n",
            "\u001b[?25l  Downloading https://files.pythonhosted.org/packages/d4/d4/5c07504a392e94786e7cf33554d961ac4b2863aa22a07b8579940ea1f6b5/h2o-3.32.0.4.tar.gz (164.6MB)\n",
            "\u001b[K     |████████████████████████████████| 164.6MB 85kB/s \n",
            "\u001b[?25hRequirement already satisfied: requests in /usr/local/lib/python3.7/dist-packages (from h2o) (2.23.0)\n",
            "Requirement already satisfied: tabulate in /usr/local/lib/python3.7/dist-packages (from h2o) (0.8.9)\n",
            "Requirement already satisfied: future in /usr/local/lib/python3.7/dist-packages (from h2o) (0.16.0)\n",
            "Collecting colorama>=0.3.8\n",
            "  Downloading https://files.pythonhosted.org/packages/44/98/5b86278fbbf250d239ae0ecb724f8572af1c91f4a11edf4d36a206189440/colorama-0.4.4-py2.py3-none-any.whl\n",
            "Requirement already satisfied: certifi>=2017.4.17 in /usr/local/lib/python3.7/dist-packages (from requests->h2o) (2020.12.5)\n",
            "Requirement already satisfied: chardet<4,>=3.0.2 in /usr/local/lib/python3.7/dist-packages (from requests->h2o) (3.0.4)\n",
            "Requirement already satisfied: urllib3!=1.25.0,!=1.25.1,<1.26,>=1.21.1 in /usr/local/lib/python3.7/dist-packages (from requests->h2o) (1.24.3)\n",
            "Requirement already satisfied: idna<3,>=2.5 in /usr/local/lib/python3.7/dist-packages (from requests->h2o) (2.10)\n",
            "Building wheels for collected packages: h2o\n",
            "  Building wheel for h2o (setup.py) ... \u001b[?25l\u001b[?25hdone\n",
            "  Created wheel for h2o: filename=h2o-3.32.0.4-py2.py3-none-any.whl size=164670979 sha256=0a9531b73826e731016940526e3641f3c42672703e6127204974b3db45b4405e\n",
            "  Stored in directory: /root/.cache/pip/wheels/65/f4/0d/c9bb958d70c2e015c968cb91cbd7f1b486933056d422337d75\n",
            "Successfully built h2o\n",
            "Installing collected packages: colorama, h2o\n",
            "Successfully installed colorama-0.4.4 h2o-3.32.0.4\n",
            "Checking whether there is an H2O instance running at http://localhost:54321 ..... not found.\n",
            "Attempting to start a local H2O server...\n",
            "  Java Version: openjdk version \"11.0.10\" 2021-01-19; OpenJDK Runtime Environment (build 11.0.10+9-Ubuntu-0ubuntu1.18.04); OpenJDK 64-Bit Server VM (build 11.0.10+9-Ubuntu-0ubuntu1.18.04, mixed mode, sharing)\n",
            "  Starting server from /usr/local/lib/python3.7/dist-packages/h2o/backend/bin/h2o.jar\n",
            "  Ice root: /tmp/tmpddm1w3e3\n",
            "  JVM stdout: /tmp/tmpddm1w3e3/h2o_unknownUser_started_from_python.out\n",
            "  JVM stderr: /tmp/tmpddm1w3e3/h2o_unknownUser_started_from_python.err\n",
            "  Server is running at http://127.0.0.1:54321\n",
            "Connecting to H2O server at http://127.0.0.1:54321 ... successful.\n"
          ],
          "name": "stdout"
        },
        {
          "output_type": "display_data",
          "data": {
            "text/html": [
              "<div style=\"overflow:auto\"><table style=\"width:50%\"><tr><td>H2O_cluster_uptime:</td>\n",
              "<td>03 secs</td></tr>\n",
              "<tr><td>H2O_cluster_timezone:</td>\n",
              "<td>Etc/UTC</td></tr>\n",
              "<tr><td>H2O_data_parsing_timezone:</td>\n",
              "<td>UTC</td></tr>\n",
              "<tr><td>H2O_cluster_version:</td>\n",
              "<td>3.32.0.4</td></tr>\n",
              "<tr><td>H2O_cluster_version_age:</td>\n",
              "<td>1 month and 12 days </td></tr>\n",
              "<tr><td>H2O_cluster_name:</td>\n",
              "<td>H2O_from_python_unknownUser_uzs7oy</td></tr>\n",
              "<tr><td>H2O_cluster_total_nodes:</td>\n",
              "<td>1</td></tr>\n",
              "<tr><td>H2O_cluster_free_memory:</td>\n",
              "<td>3.180 Gb</td></tr>\n",
              "<tr><td>H2O_cluster_total_cores:</td>\n",
              "<td>2</td></tr>\n",
              "<tr><td>H2O_cluster_allowed_cores:</td>\n",
              "<td>2</td></tr>\n",
              "<tr><td>H2O_cluster_status:</td>\n",
              "<td>accepting new members, healthy</td></tr>\n",
              "<tr><td>H2O_connection_url:</td>\n",
              "<td>http://127.0.0.1:54321</td></tr>\n",
              "<tr><td>H2O_connection_proxy:</td>\n",
              "<td>{\"http\": null, \"https\": null}</td></tr>\n",
              "<tr><td>H2O_internal_security:</td>\n",
              "<td>False</td></tr>\n",
              "<tr><td>H2O_API_Extensions:</td>\n",
              "<td>Amazon S3, XGBoost, Algos, AutoML, Core V3, TargetEncoder, Core V4</td></tr>\n",
              "<tr><td>Python_version:</td>\n",
              "<td>3.7.10 final</td></tr></table></div>"
            ],
            "text/plain": [
              "--------------------------  ------------------------------------------------------------------\n",
              "H2O_cluster_uptime:         03 secs\n",
              "H2O_cluster_timezone:       Etc/UTC\n",
              "H2O_data_parsing_timezone:  UTC\n",
              "H2O_cluster_version:        3.32.0.4\n",
              "H2O_cluster_version_age:    1 month and 12 days\n",
              "H2O_cluster_name:           H2O_from_python_unknownUser_uzs7oy\n",
              "H2O_cluster_total_nodes:    1\n",
              "H2O_cluster_free_memory:    3.180 Gb\n",
              "H2O_cluster_total_cores:    2\n",
              "H2O_cluster_allowed_cores:  2\n",
              "H2O_cluster_status:         accepting new members, healthy\n",
              "H2O_connection_url:         http://127.0.0.1:54321\n",
              "H2O_connection_proxy:       {\"http\": null, \"https\": null}\n",
              "H2O_internal_security:      False\n",
              "H2O_API_Extensions:         Amazon S3, XGBoost, Algos, AutoML, Core V3, TargetEncoder, Core V4\n",
              "Python_version:             3.7.10 final\n",
              "--------------------------  ------------------------------------------------------------------"
            ]
          },
          "metadata": {
            "tags": []
          }
        }
      ]
    },
    {
      "cell_type": "code",
      "metadata": {
        "id": "Sa8rv0uR_pFo",
        "colab": {
          "base_uri": "https://localhost:8080/"
        },
        "outputId": "1e228651-2cee-4680-9848-77f33c00b551"
      },
      "source": [
        "df = pd.read_csv(\n",
        "  '/content/data_stroke.csv')\n",
        "data = h2o.import_file('/content/data_stroke.csv')\n",
        "data['Surv'] = data['Surv'].asfactor()"
      ],
      "execution_count": null,
      "outputs": [
        {
          "output_type": "stream",
          "text": [
            "Parse progress: |█████████████████████████████████████████████████████████| 100%\n"
          ],
          "name": "stdout"
        }
      ]
    },
    {
      "cell_type": "code",
      "metadata": {
        "id": "gDj1BNyWsBK1",
        "colab": {
          "base_uri": "https://localhost:8080/",
          "height": 473
        },
        "outputId": "05a85481-294b-46e8-9989-e798b6466e33"
      },
      "source": [
        "data.describe()"
      ],
      "execution_count": null,
      "outputs": [
        {
          "output_type": "stream",
          "text": [
            "Rows:113\n",
            "Cols:9\n",
            "\n",
            "\n"
          ],
          "name": "stdout"
        },
        {
          "output_type": "display_data",
          "data": {
            "text/html": [
              "<table>\n",
              "<thead>\n",
              "<tr><th>       </th><th>Gender  </th><th>Age              </th><th>AF   </th><th>Localisation  </th><th>AMI_Unst.ang  </th><th>GFR              </th><th>Surv  </th><th>Q_non_Q  </th><th>DM         </th></tr>\n",
              "</thead>\n",
              "<tbody>\n",
              "<tr><td>type   </td><td>enum    </td><td>int              </td><td>enum </td><td>enum          </td><td>enum          </td><td>int              </td><td>enum  </td><td>enum     </td><td>enum       </td></tr>\n",
              "<tr><td>mins   </td><td>        </td><td>56.0             </td><td>     </td><td>              </td><td>              </td><td>9.0              </td><td>      </td><td>         </td><td>           </td></tr>\n",
              "<tr><td>mean   </td><td>        </td><td>77.01769911504424</td><td>     </td><td>              </td><td>              </td><td>43.00000000000002</td><td>      </td><td>         </td><td>           </td></tr>\n",
              "<tr><td>maxs   </td><td>        </td><td>98.0             </td><td>     </td><td>              </td><td>              </td><td>98.0             </td><td>      </td><td>         </td><td>           </td></tr>\n",
              "<tr><td>sigma  </td><td>        </td><td>8.869069749984408</td><td>     </td><td>              </td><td>              </td><td>20.34128454997022</td><td>      </td><td>         </td><td>           </td></tr>\n",
              "<tr><td>zeros  </td><td>        </td><td>0                </td><td>     </td><td>              </td><td>              </td><td>0                </td><td>      </td><td>         </td><td>           </td></tr>\n",
              "<tr><td>missing</td><td>0       </td><td>0                </td><td>0    </td><td>0             </td><td>0             </td><td>0                </td><td>0     </td><td>59       </td><td>0          </td></tr>\n",
              "<tr><td>0      </td><td>male    </td><td>56.0             </td><td>No_AF</td><td>Left_car      </td><td>AMI           </td><td>14.0             </td><td>death </td><td>non_Q    </td><td>Diabetes   </td></tr>\n",
              "<tr><td>1      </td><td>male    </td><td>59.0             </td><td>No_AF</td><td>Left_car      </td><td>Unst_ang      </td><td>98.0             </td><td>alive </td><td>         </td><td>No_Diabetes</td></tr>\n",
              "<tr><td>2      </td><td>female  </td><td>86.0             </td><td>AF   </td><td>Left_car      </td><td>AMI           </td><td>57.0             </td><td>death </td><td>non_Q    </td><td>Diabetes   </td></tr>\n",
              "<tr><td>3      </td><td>female  </td><td>83.0             </td><td>AF   </td><td>Left_car      </td><td>Unst_ang      </td><td>69.0             </td><td>alive </td><td>         </td><td>No_Diabetes</td></tr>\n",
              "<tr><td>4      </td><td>female  </td><td>78.0             </td><td>AF   </td><td>Left_car      </td><td>AMI           </td><td>54.0             </td><td>death </td><td>non_Q    </td><td>No_Diabetes</td></tr>\n",
              "<tr><td>5      </td><td>male    </td><td>73.0             </td><td>No_AF</td><td>Right_car     </td><td>AMI           </td><td>86.0             </td><td>alive </td><td>         </td><td>No_Diabetes</td></tr>\n",
              "<tr><td>6      </td><td>female  </td><td>76.0             </td><td>AF   </td><td>Right_car     </td><td>AMI           </td><td>12.0             </td><td>death </td><td>         </td><td>Diabetes   </td></tr>\n",
              "<tr><td>7      </td><td>male    </td><td>76.0             </td><td>AF   </td><td>Vertebro_bas  </td><td>Unst_ang      </td><td>52.0             </td><td>alive </td><td>         </td><td>No_Diabetes</td></tr>\n",
              "<tr><td>8      </td><td>male    </td><td>78.0             </td><td>AF   </td><td>Left_car      </td><td>AMI           </td><td>32.0             </td><td>death </td><td>         </td><td>Diabetes   </td></tr>\n",
              "<tr><td>9      </td><td>female  </td><td>76.0             </td><td>No_AF</td><td>Left_car      </td><td>AMI           </td><td>37.0             </td><td>death </td><td>         </td><td>No_Diabetes</td></tr>\n",
              "</tbody>\n",
              "</table>"
            ]
          },
          "metadata": {
            "tags": []
          }
        }
      ]
    },
    {
      "cell_type": "code",
      "metadata": {
        "id": "n3259eWSsPgv",
        "colab": {
          "base_uri": "https://localhost:8080/",
          "height": 83
        },
        "outputId": "ced93aea-86ca-4116-f443-27df556551cf"
      },
      "source": [
        "data['Surv'].table()"
      ],
      "execution_count": null,
      "outputs": [
        {
          "output_type": "display_data",
          "data": {
            "text/html": [
              "<table>\n",
              "<thead>\n",
              "<tr><th>Surv  </th><th style=\"text-align: right;\">  Count</th></tr>\n",
              "</thead>\n",
              "<tbody>\n",
              "<tr><td>alive </td><td style=\"text-align: right;\">     52</td></tr>\n",
              "<tr><td>death </td><td style=\"text-align: right;\">     61</td></tr>\n",
              "</tbody>\n",
              "</table>"
            ]
          },
          "metadata": {
            "tags": []
          }
        },
        {
          "output_type": "execute_result",
          "data": {
            "text/plain": [
              ""
            ]
          },
          "metadata": {
            "tags": []
          },
          "execution_count": 43
        }
      ]
    },
    {
      "cell_type": "code",
      "metadata": {
        "id": "bK7vSLlosXvn",
        "colab": {
          "base_uri": "https://localhost:8080/",
          "height": 83
        },
        "outputId": "fd2d4cfc-9e98-48e0-adaf-3dd7a5298920"
      },
      "source": [
        "data['Gender'].table()"
      ],
      "execution_count": null,
      "outputs": [
        {
          "output_type": "display_data",
          "data": {
            "text/html": [
              "<table>\n",
              "<thead>\n",
              "<tr><th>Gender  </th><th style=\"text-align: right;\">  Count</th></tr>\n",
              "</thead>\n",
              "<tbody>\n",
              "<tr><td>female  </td><td style=\"text-align: right;\">     83</td></tr>\n",
              "<tr><td>male    </td><td style=\"text-align: right;\">     30</td></tr>\n",
              "</tbody>\n",
              "</table>"
            ]
          },
          "metadata": {
            "tags": []
          }
        },
        {
          "output_type": "execute_result",
          "data": {
            "text/plain": [
              ""
            ]
          },
          "metadata": {
            "tags": []
          },
          "execution_count": 44
        }
      ]
    },
    {
      "cell_type": "code",
      "metadata": {
        "id": "y5Yon2n6sd6j"
      },
      "source": [
        ""
      ],
      "execution_count": null,
      "outputs": []
    },
    {
      "cell_type": "code",
      "metadata": {
        "id": "hgpAUiLvADMf"
      },
      "source": [
        "from h2o.automl import H2OAutoML\n",
        "from h2o.estimators import H2OXGBoostEstimator"
      ],
      "execution_count": null,
      "outputs": []
    },
    {
      "cell_type": "code",
      "metadata": {
        "id": "yRArfR28Ay5F"
      },
      "source": [
        "# Set predictors and response variable\n",
        "response = \"Surv\"\n",
        "predictors = data.col_names.remove(response)\n"
      ],
      "execution_count": null,
      "outputs": []
    },
    {
      "cell_type": "code",
      "metadata": {
        "id": "nP9i-OcZBwjj"
      },
      "source": [
        "# split\n",
        "train, test = data.split_frame(seed = 1234, \n",
        "                                  ratios = [0.75], \n",
        "                                  destination_frames = [\"train.hex\", \"test.hex\"])"
      ],
      "execution_count": null,
      "outputs": []
    },
    {
      "cell_type": "code",
      "metadata": {
        "colab": {
          "base_uri": "https://localhost:8080/"
        },
        "id": "nQvnIKpaOTg1",
        "outputId": "72a238ba-69c8-41dc-c5e9-856ad020aaf2"
      },
      "source": [
        "train.col_names"
      ],
      "execution_count": null,
      "outputs": [
        {
          "output_type": "execute_result",
          "data": {
            "text/plain": [
              "['Gender',\n",
              " 'Age',\n",
              " 'AF',\n",
              " 'Localisation',\n",
              " 'AMI_Unst.ang',\n",
              " 'GFR',\n",
              " 'Surv',\n",
              " 'Q_non_Q',\n",
              " 'DM']"
            ]
          },
          "metadata": {
            "tags": []
          },
          "execution_count": 9
        }
      ]
    },
    {
      "cell_type": "code",
      "metadata": {
        "id": "221qP96nrT55"
      },
      "source": [
        "stroke_xgb = H2OXGBoostEstimator(booster='dart',\r\n",
        "                                  normalize_type=\"tree\",\r\n",
        "                                  seed=1234)"
      ],
      "execution_count": null,
      "outputs": []
    },
    {
      "cell_type": "code",
      "metadata": {
        "id": "SI4McTJLrXhC",
        "colab": {
          "base_uri": "https://localhost:8080/"
        },
        "outputId": "3dab818e-73f7-4744-9d1e-eeafb6207d99"
      },
      "source": [
        "stroke_xgb.train(x=predictors,\r\n",
        "                  y=response,\r\n",
        "                  training_frame=train,\r\n",
        "                  validation_frame=test)"
      ],
      "execution_count": null,
      "outputs": [
        {
          "output_type": "stream",
          "text": [
            "xgboost Model Build progress: |███████████████████████████████████████████| 100%\n"
          ],
          "name": "stdout"
        }
      ]
    },
    {
      "cell_type": "code",
      "metadata": {
        "id": "2BSxY4GzrXkN",
        "colab": {
          "base_uri": "https://localhost:8080/"
        },
        "outputId": "28c599f8-3751-4053-9f24-38039284f81c"
      },
      "source": [
        "stroke_xgb.accuracy()"
      ],
      "execution_count": null,
      "outputs": [
        {
          "output_type": "execute_result",
          "data": {
            "text/plain": [
              "[[0.6939302682876587, 1.0]]"
            ]
          },
          "metadata": {
            "tags": []
          },
          "execution_count": 12
        }
      ]
    },
    {
      "cell_type": "code",
      "metadata": {
        "id": "4lObBqJI9kSy",
        "colab": {
          "base_uri": "https://localhost:8080/",
          "height": 178
        },
        "outputId": "98b438ab-c766-467e-c1ce-374e604f68ab"
      },
      "source": [
        "stroke_xgb.confusion_matrix(valid=test)"
      ],
      "execution_count": null,
      "outputs": [
        {
          "output_type": "stream",
          "text": [
            "\n",
            "Confusion Matrix (Act/Pred) for max f1 @ threshold = 0.38981395959854126: \n"
          ],
          "name": "stdout"
        },
        {
          "output_type": "display_data",
          "data": {
            "text/html": [
              "<div>\n",
              "<style scoped>\n",
              "    .dataframe tbody tr th:only-of-type {\n",
              "        vertical-align: middle;\n",
              "    }\n",
              "\n",
              "    .dataframe tbody tr th {\n",
              "        vertical-align: top;\n",
              "    }\n",
              "\n",
              "    .dataframe thead th {\n",
              "        text-align: right;\n",
              "    }\n",
              "</style>\n",
              "<table border=\"1\" class=\"dataframe\">\n",
              "  <thead>\n",
              "    <tr style=\"text-align: right;\">\n",
              "      <th></th>\n",
              "      <th></th>\n",
              "      <th>alive</th>\n",
              "      <th>death</th>\n",
              "      <th>Error</th>\n",
              "      <th>Rate</th>\n",
              "    </tr>\n",
              "  </thead>\n",
              "  <tbody>\n",
              "    <tr>\n",
              "      <th>0</th>\n",
              "      <td>alive</td>\n",
              "      <td>10.0</td>\n",
              "      <td>4.0</td>\n",
              "      <td>0.2857</td>\n",
              "      <td>(4.0/14.0)</td>\n",
              "    </tr>\n",
              "    <tr>\n",
              "      <th>1</th>\n",
              "      <td>death</td>\n",
              "      <td>0.0</td>\n",
              "      <td>15.0</td>\n",
              "      <td>0.0</td>\n",
              "      <td>(0.0/15.0)</td>\n",
              "    </tr>\n",
              "    <tr>\n",
              "      <th>2</th>\n",
              "      <td>Total</td>\n",
              "      <td>10.0</td>\n",
              "      <td>19.0</td>\n",
              "      <td>0.1379</td>\n",
              "      <td>(4.0/29.0)</td>\n",
              "    </tr>\n",
              "  </tbody>\n",
              "</table>\n",
              "</div>"
            ],
            "text/plain": [
              "          alive  death   Error         Rate\n",
              "0  alive   10.0    4.0  0.2857   (4.0/14.0)\n",
              "1  death    0.0   15.0     0.0   (0.0/15.0)\n",
              "2  Total   10.0   19.0  0.1379   (4.0/29.0)"
            ]
          },
          "metadata": {
            "tags": []
          }
        },
        {
          "output_type": "execute_result",
          "data": {
            "text/plain": [
              ""
            ]
          },
          "metadata": {
            "tags": []
          },
          "execution_count": 13
        }
      ]
    },
    {
      "cell_type": "code",
      "metadata": {
        "id": "BtzANy26siKa",
        "colab": {
          "base_uri": "https://localhost:8080/"
        },
        "outputId": "f805f101-a6b5-4f39-b792-02ae1e81f086"
      },
      "source": [
        "stroke_xgb.auc(valid=test)"
      ],
      "execution_count": null,
      "outputs": [
        {
          "output_type": "execute_result",
          "data": {
            "text/plain": [
              "0.838095238095238"
            ]
          },
          "metadata": {
            "tags": []
          },
          "execution_count": 14
        }
      ]
    },
    {
      "cell_type": "code",
      "metadata": {
        "id": "_6nMhFVZstA0",
        "colab": {
          "base_uri": "https://localhost:8080/",
          "height": 612
        },
        "outputId": "9509c38a-4f12-4270-b437-b702688f1460"
      },
      "source": [
        "stroke_xgb.varimp_plot()"
      ],
      "execution_count": null,
      "outputs": [
        {
          "output_type": "display_data",
          "data": {
            "image/png": "[encoded data removed]",
            "text/plain": [
              "<Figure size 1008x720 with 1 Axes>"
            ]
          },
          "metadata": {
            "tags": [],
            "needs_background": "light"
          }
        }
      ]
    },
    {
      "cell_type": "code",
      "metadata": {
        "id": "w5V3WRnvAUBn",
        "colab": {
          "base_uri": "https://localhost:8080/"
        },
        "outputId": "db52c784-457d-49a6-90ef-e3c09a9d9211"
      },
      "source": [
        "aml = H2OAutoML(max_models = 6, max_runtime_secs = 120, seed = 12345)\n",
        "aml.train(x = predictors, y = response, training_frame = train, leaderboard_frame = test)"
      ],
      "execution_count": null,
      "outputs": [
        {
          "output_type": "stream",
          "text": [
            "AutoML progress: |████████████████████████████████████████████████████████| 100%\n"
          ],
          "name": "stdout"
        }
      ]
    },
    {
      "cell_type": "code",
      "metadata": {
        "id": "9RX1wK5yBos9"
      },
      "source": [
        "lb = aml.leaderboard"
      ],
      "execution_count": null,
      "outputs": []
    },
    {
      "cell_type": "code",
      "metadata": {
        "id": "gskx2siCCBjx",
        "colab": {
          "base_uri": "https://localhost:8080/",
          "height": 231
        },
        "outputId": "3f1fe8eb-e0a6-43fa-bf37-b5d53d7b8093"
      },
      "source": [
        "lb.head(rows=lb.nrows)"
      ],
      "execution_count": null,
      "outputs": [
        {
          "output_type": "display_data",
          "data": {
            "text/html": [
              "<table>\n",
              "<thead>\n",
              "<tr><th>model_id                                           </th><th style=\"text-align: right;\">     auc</th><th style=\"text-align: right;\">  logloss</th><th style=\"text-align: right;\">   aucpr</th><th style=\"text-align: right;\">  mean_per_class_error</th><th style=\"text-align: right;\">    rmse</th><th style=\"text-align: right;\">     mse</th></tr>\n",
              "</thead>\n",
              "<tbody>\n",
              "<tr><td>GBM_1_AutoML_20210314_080158                       </td><td style=\"text-align: right;\">0.866667</td><td style=\"text-align: right;\"> 0.460474</td><td style=\"text-align: right;\">0.840542</td><td style=\"text-align: right;\">              0.142857</td><td style=\"text-align: right;\">0.362449</td><td style=\"text-align: right;\">0.131369</td></tr>\n",
              "<tr><td>StackedEnsemble_BestOfFamily_AutoML_20210314_080158</td><td style=\"text-align: right;\">0.842857</td><td style=\"text-align: right;\"> 0.446959</td><td style=\"text-align: right;\">0.704081</td><td style=\"text-align: right;\">              0.107143</td><td style=\"text-align: right;\">0.354997</td><td style=\"text-align: right;\">0.126023</td></tr>\n",
              "<tr><td>StackedEnsemble_AllModels_AutoML_20210314_080158   </td><td style=\"text-align: right;\">0.838095</td><td style=\"text-align: right;\"> 0.455212</td><td style=\"text-align: right;\">0.700163</td><td style=\"text-align: right;\">              0.107143</td><td style=\"text-align: right;\">0.370997</td><td style=\"text-align: right;\">0.137639</td></tr>\n",
              "<tr><td>XGBoost_3_AutoML_20210314_080158                   </td><td style=\"text-align: right;\">0.828571</td><td style=\"text-align: right;\"> 0.508935</td><td style=\"text-align: right;\">0.811584</td><td style=\"text-align: right;\">              0.178571</td><td style=\"text-align: right;\">0.405357</td><td style=\"text-align: right;\">0.164314</td></tr>\n",
              "<tr><td>DRF_1_AutoML_20210314_080158                       </td><td style=\"text-align: right;\">0.82381 </td><td style=\"text-align: right;\"> 0.551078</td><td style=\"text-align: right;\">0.738875</td><td style=\"text-align: right;\">              0.17619 </td><td style=\"text-align: right;\">0.406136</td><td style=\"text-align: right;\">0.164946</td></tr>\n",
              "<tr><td>GLM_1_AutoML_20210314_080158                       </td><td style=\"text-align: right;\">0.780952</td><td style=\"text-align: right;\"> 0.65419 </td><td style=\"text-align: right;\">0.705484</td><td style=\"text-align: right;\">              0.214286</td><td style=\"text-align: right;\">0.43137 </td><td style=\"text-align: right;\">0.18608 </td></tr>\n",
              "<tr><td>XGBoost_1_AutoML_20210314_080158                   </td><td style=\"text-align: right;\">0.692857</td><td style=\"text-align: right;\"> 0.660492</td><td style=\"text-align: right;\">0.586733</td><td style=\"text-align: right;\">              0.214286</td><td style=\"text-align: right;\">0.465508</td><td style=\"text-align: right;\">0.216698</td></tr>\n",
              "<tr><td>XGBoost_2_AutoML_20210314_080158                   </td><td style=\"text-align: right;\">0.5     </td><td style=\"text-align: right;\"> 0.692938</td><td style=\"text-align: right;\">0.517241</td><td style=\"text-align: right;\">              0.5     </td><td style=\"text-align: right;\">0.499895</td><td style=\"text-align: right;\">0.249895</td></tr>\n",
              "</tbody>\n",
              "</table>"
            ]
          },
          "metadata": {
            "tags": []
          }
        },
        {
          "output_type": "execute_result",
          "data": {
            "text/plain": [
              ""
            ]
          },
          "metadata": {
            "tags": []
          },
          "execution_count": 19
        }
      ]
    },
    {
      "cell_type": "code",
      "metadata": {
        "id": "M-dE3rk6CDgc",
        "colab": {
          "base_uri": "https://localhost:8080/"
        },
        "outputId": "fc5b7252-3afe-4097-903e-42b396c02175"
      },
      "source": [
        "aml.varimp_heatmap\n"
      ],
      "execution_count": null,
      "outputs": [
        {
          "output_type": "execute_result",
          "data": {
            "text/plain": [
              "<bound method varimp_heatmap of <h2o.automl.autoh2o.H2OAutoML object at 0x7f6a1492ac90>>"
            ]
          },
          "metadata": {
            "tags": []
          },
          "execution_count": 20
        }
      ]
    },
    {
      "cell_type": "code",
      "metadata": {
        "id": "fCbblmFxCNDc"
      },
      "source": [
        "import scipy\n",
        "from scipy import stats\n",
        "x = df[df['Surv'] == 'death']['GFR']\n",
        "y = df[df['Surv'] == 'alive']['GFR']\n"
      ],
      "execution_count": null,
      "outputs": []
    },
    {
      "cell_type": "code",
      "metadata": {
        "id": "S141LghYSSUP"
      },
      "source": [
        "y"
      ],
      "execution_count": null,
      "outputs": []
    },
    {
      "cell_type": "code",
      "metadata": {
        "id": "vGbiPYWqSRsZ"
      },
      "source": [
        "x.name, y.name = 'death', 'alive'"
      ],
      "execution_count": null,
      "outputs": []
    },
    {
      "cell_type": "code",
      "metadata": {
        "id": "DXApK0TzFHXk",
        "colab": {
          "base_uri": "https://localhost:8080/"
        },
        "outputId": "b5f550e6-bd1b-4986-f35d-db32aa6a21fb"
      },
      "source": [
        "res = stats.ttest_ind(x, y)\n",
        "print('p-value: ', res[1])"
      ],
      "execution_count": null,
      "outputs": [
        {
          "output_type": "stream",
          "text": [
            "p-value:  0.000291013320097493\n"
          ],
          "name": "stdout"
        }
      ]
    },
    {
      "cell_type": "code",
      "metadata": {
        "id": "gqBWx6XxFUnG"
      },
      "source": [
        "from h2o.estimators.coxph import H2OCoxProportionalHazardsEstimator"
      ],
      "execution_count": null,
      "outputs": []
    },
    {
      "cell_type": "code",
      "metadata": {
        "id": "BLEyg9SZTaFn"
      },
      "source": [
        "data.col_names"
      ],
      "execution_count": null,
      "outputs": []
    },
    {
      "cell_type": "code",
      "metadata": {
        "id": "ZXvu5lvATLW8"
      },
      "source": [
        "stroke_coxph = H2OCoxProportionalHazardsEstimator(\n",
        "                                                 stop_column=\"GFR\",\n",
        "                                                 ties=\"breslow\")\n",
        "stroke_coxph.train(x=predictors,\n",
        "            y=response,\n",
        "            training_frame=train)"
      ],
      "execution_count": null,
      "outputs": []
    },
    {
      "cell_type": "code",
      "metadata": {
        "id": "zagkNs_eTi42",
        "colab": {
          "base_uri": "https://localhost:8080/"
        },
        "outputId": "9a4a8e73-fa36-4c9b-d54a-5532025482ab"
      },
      "source": [
        "pred = stroke_coxph.predict(test)"
      ],
      "execution_count": null,
      "outputs": [
        {
          "output_type": "stream",
          "text": [
            "coxph prediction progress: |██████████████████████████████████████████████| 100%\n"
          ],
          "name": "stdout"
        }
      ]
    },
    {
      "cell_type": "code",
      "metadata": {
        "id": "LTLLB_XgUej5"
      },
      "source": [
        "stroke_coxph.coefficients_table"
      ],
      "execution_count": null,
      "outputs": []
    },
    {
      "cell_type": "code",
      "metadata": {
        "colab": {
          "base_uri": "https://localhost:8080/"
        },
        "id": "nh7ef-AwFy9B",
        "outputId": "6cfcc996-0e8f-4759-9a69-3d37d74bd487"
      },
      "source": [
        "stroke_xgb.logloss(valid=test)"
      ],
      "execution_count": null,
      "outputs": [
        {
          "output_type": "execute_result",
          "data": {
            "text/plain": [
              "0.4710057299118354"
            ]
          },
          "metadata": {
            "tags": []
          },
          "execution_count": 59
        }
      ]
    },
    {
      "cell_type": "code",
      "metadata": {
        "colab": {
          "base_uri": "https://localhost:8080/",
          "height": 380
        },
        "id": "wb8Zv6zTXgPO",
        "outputId": "950c99a8-3cb0-4eca-e7df-74bbbfe766f6"
      },
      "source": [
        "import matplotlib.pyplot as plt  \n",
        "matplotlib.style.use('ggplot')\n",
        "import numpy as np\n",
        "from sklearn import metrics\n",
        "display = metrics.RocCurveDisplay(stroke_xgb.roc(valid=test)[0], stroke_xgb.roc(valid=test)[1], stroke_xgb.auc(valid=test), estimator_name='')\n",
        "display.plot()\n",
        "plt.title('Receiver Operating Characteristic')\n",
        "plt.show() "
      ],
      "execution_count": null,
      "outputs": [
        {
          "output_type": "display_data",
          "data": {
            "image/png": "[encoded data removed]",
            "text/plain": [
              "<Figure size 576x396 with 1 Axes>"
            ]
          },
          "metadata": {
            "tags": []
          }
        }
      ]
    },
    {
      "cell_type": "code",
      "metadata": {
        "colab": {
          "base_uri": "https://localhost:8080/",
          "height": 513
        },
        "id": "BXDt3Z9VfGV3",
        "outputId": "c5b7f54e-9233-404f-df1a-2caf81330ddf"
      },
      "source": [
        "from pylab import rcParams\n",
        "rcParams['figure.figsize'] = 10, 8\n",
        "plt.title('Receiver Operating Characteristic')\n",
        "plt.plot(stroke_xgb.roc(valid=test)[0], stroke_xgb.roc(valid=test)[1], 'b', label = 'AUC = %0.2f' % stroke_xgb.auc(valid=test))\n",
        "plt.legend(loc = 'lower right')\n",
        "plt.plot([0, 1], [0, 1],'r--')\n",
        "plt.ylabel('True Positive Rate')\n",
        "plt.xlabel('False Positive Rate')\n",
        "plt.show()"
      ],
      "execution_count": null,
      "outputs": [
        {
          "output_type": "display_data",
          "data": {
            "image/png": "[encoded data removed]",
            "text/plain": [
              "<Figure size 720x576 with 1 Axes>"
            ]
          },
          "metadata": {
            "tags": [],
            "needs_background": "light"
          }
        }
      ]
    },
    {
      "cell_type": "code",
      "metadata": {
        "id": "eCNBf3Hy6UrN"
      },
      "source": [
        ""
      ],
      "execution_count": null,
      "outputs": []
    }
  ]
}